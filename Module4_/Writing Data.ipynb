{
 "cells": [
  {
   "cell_type": "code",
   "execution_count": 1,
   "metadata": {},
   "outputs": [
    {
     "name": "stdout",
     "output_type": "stream",
     "text": [
      "<_io.TextIOWrapper name='C:\\\\Users\\\\ARNOB\\\\Desktop\\\\Jupyter One pager 2.txt' mode='w+' encoding='cp1252'>\n"
     ]
    }
   ],
   "source": [
    "#Lets work on file writing with Python\n",
    "with open(\"C:\\\\Users\\\\ARNOB\\\\Desktop\\\\Jupyter One pager 2.txt\",\"w+\") as file1:\n",
    "        file1.write(\"Go fuck yourself 1\\n\")\n",
    "        file1.write(\"Go fuck yourself 2\\n\")\n",
    "print(file1)"
   ]
  },
  {
   "cell_type": "code",
   "execution_count": 2,
   "metadata": {},
   "outputs": [
    {
     "name": "stdout",
     "output_type": "stream",
     "text": [
      "Please 1\n",
      "\n",
      "Please 2\n",
      "\n",
      "Please 3\n",
      "\n"
     ]
    }
   ],
   "source": [
    "lines=[\"Please 1\\n\",\"Please 2\\n\",\"Please 3\\n\"]\n",
    "with open(\"C:\\\\Users\\\\ARNOB\\\\Desktop\\\\Jupyter One pager 2.txt\",\"w+\") as file1:\n",
    "    for i in lines:\n",
    "        file1.write(i)\n",
    "        print(i)"
   ]
  },
  {
   "cell_type": "code",
   "execution_count": 3,
   "metadata": {},
   "outputs": [
    {
     "name": "stdout",
     "output_type": "stream",
     "text": [
      "Please 4\n",
      "Please 5\n"
     ]
    }
   ],
   "source": [
    "appends=['Please 4','Please 5']\n",
    "with open(\"C:\\\\Users\\\\ARNOB\\\\Desktop\\\\Jupyter One pager 2.txt\",\"a+\") as file1:\n",
    "    for append in appends:\n",
    "        file1.write(append+\"\\n\")\n",
    "        print(append)"
   ]
  },
  {
   "cell_type": "code",
   "execution_count": null,
   "metadata": {},
   "outputs": [],
   "source": []
  }
 ],
 "metadata": {
  "kernelspec": {
   "display_name": "Python 3",
   "language": "python",
   "name": "python3"
  },
  "language_info": {
   "codemirror_mode": {
    "name": "ipython",
    "version": 3
   },
   "file_extension": ".py",
   "mimetype": "text/x-python",
   "name": "python",
   "nbconvert_exporter": "python",
   "pygments_lexer": "ipython3",
   "version": "3.7.6"
  }
 },
 "nbformat": 4,
 "nbformat_minor": 4
}

{
 "cells": [
  {
   "cell_type": "code",
   "execution_count": 1,
   "metadata": {},
   "outputs": [],
   "source": [
    "#Open,read, close functions and the with statements using read() fucntions"
   ]
  },
  {
   "cell_type": "code",
   "execution_count": 2,
   "metadata": {},
   "outputs": [
    {
     "name": "stdout",
     "output_type": "stream",
     "text": [
      "conda install -c conda-forge jupyterlab\n",
      "jupyter lab\n",
      "http(s)://<server:port>/<lab-location>/lab\n",
      "C:\\\\Users\\ARNOB\\Desktop\\Jupyter One pager.txt\n"
     ]
    }
   ],
   "source": [
    "#using the with statement as it is a good idea to automatically close after reading it\n",
    "with open(r\"C:\\\\Users\\ARNOB\\Desktop\\Jupyter One pager.txt\") as file1:\n",
    "    file_stuff=file1.read()\n",
    "    print(file_stuff)\n",
    "    print(file1.name)\n",
    "    file1.close()"
   ]
  },
  {
   "cell_type": "code",
   "execution_count": 3,
   "metadata": {},
   "outputs": [
    {
     "name": "stdout",
     "output_type": "stream",
     "text": [
      "['conda install -c conda-forge jupyterlab\\n', 'jupyter lab\\n', 'http(s)://<server:port>/<lab-location>/lab']\n",
      "C:\\Users\\ARNOB\\Desktop\\Jupyter One pager.txt\n"
     ]
    }
   ],
   "source": [
    "with open(\"C:\\\\Users\\\\ARNOB\\\\Desktop\\\\Jupyter One pager.txt\",\"r\") as file1:\n",
    "    file_stuff=file1.readlines()\n",
    "    print(file_stuff)\n",
    "    print(file1.name)\n",
    "    file1.close()"
   ]
  },
  {
   "cell_type": "code",
   "execution_count": 4,
   "metadata": {},
   "outputs": [
    {
     "name": "stdout",
     "output_type": "stream",
     "text": [
      "conda install -c conda-forge jupyterlab\n",
      "\n",
      "jupyter lab\n",
      "\n",
      "http(s)://<server:port>/<lab-location>/lab\n"
     ]
    }
   ],
   "source": [
    "with open(\"C:\\\\Users\\\\ARNOB\\\\Desktop\\\\Jupyter One pager.txt\",\"r\") as file1:\n",
    "    for line in file1:\n",
    "        print(line)"
   ]
  },
  {
   "cell_type": "code",
   "execution_count": 12,
   "metadata": {},
   "outputs": [
    {
     "name": "stdout",
     "output_type": "stream",
     "text": [
      "con\n",
      "C:\\Users\\ARNOB\\Desktop\\Jupyter One pager.txt\n"
     ]
    }
   ],
   "source": [
    "with open(\"C:\\\\Users\\\\ARNOB\\\\Desktop\\\\Jupyter One pager.txt\",\"r\") as file1:\n",
    "    file_stuff=file1.read(3)\n",
    "    print(file_stuff)\n",
    "    print(file1.name)\n",
    "    file1.close()"
   ]
  },
  {
   "cell_type": "code",
   "execution_count": null,
   "metadata": {},
   "outputs": [],
   "source": []
  }
 ],
 "metadata": {
  "kernelspec": {
   "display_name": "Python 3",
   "language": "python",
   "name": "python3"
  },
  "language_info": {
   "codemirror_mode": {
    "name": "ipython",
    "version": 3
   },
   "file_extension": ".py",
   "mimetype": "text/x-python",
   "name": "python",
   "nbconvert_exporter": "python",
   "pygments_lexer": "ipython3",
   "version": "3.7.6"
  }
 },
 "nbformat": 4,
 "nbformat_minor": 4
}
